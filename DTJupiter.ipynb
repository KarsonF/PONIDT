{
 "cells": [
  {
   "cell_type": "code",
   "execution_count": 1,
   "metadata": {},
   "outputs": [],
   "source": [
    "import ipywidgets as widgets"
   ]
  },
  {
   "cell_type": "code",
   "execution_count": 2,
   "metadata": {
    "jupyter": {
     "source_hidden": true
    }
   },
   "outputs": [],
   "source": [
    "\n",
    "Q1 = widgets.RadioButtons(\n",
    "    options=['Human','Animal','Cell'],\n",
    "    description='Will you be hosting human, animal, or cell data?',\n",
    "    layout={'width': 'max-content'},\n",
    "    disabled=False\n",
    ")\n",
    "\n",
    "Q2 = widgets.RadioButtons(\n",
    "    options=['Yes','No','Undetermined'],\n",
    "    description='Does your data contain any sensitive information (ie. potentially re-identifiable personal information)?',\n",
    "    layout={'width': 'max-content'},\n",
    "    disabled=False\n",
    "    \n",
    ")\n",
    "\n",
    "Q3 = widgets.RadioButtons(\n",
    "    options=['Yes','No','Undetermined'],\n",
    "    description='Do you require a terms of use or registration for data access?',\n",
    "    layout={'width': 'max-content'},\n",
    "    disabled=False\n",
    ")\n",
    "\n",
    "Q4 = widgets.RadioButtons(\n",
    "    options=['Yes','No','Undetermined'],\n",
    "    description='Do you require the repository to have a built in privacy policy?',\n",
    "    layout={'width': 'max-content'},\n",
    "    disabled=False\n",
    ")\n",
    "\n",
    "Q5 = widgets.RadioButtons(\n",
    "    options=['Yes','No','Undetermined'],\n",
    "    description='Do you require the repository to have a firewall? ',\n",
    "    layout={'width': 'max-content'},\n",
    "    disabled=False\n",
    ")\n",
    "\n",
    "Q6 = widgets.RadioButtons(\n",
    "    options=['Yes','No','Undetermined'],\n",
    "    description='Do you require the database to have CoreTrust Seal or be working towards obtaining it?',\n",
    "    layout={'width': 'max-content'},\n",
    "    disabled=False\n",
    ")\n",
    "\n",
    "Q7 = widgets.RadioButtons(\n",
    "    options=['Yes','No','Undetermined'],\n",
    "    description='Does your data need to be stored on a Canadian server?',\n",
    "    layout={'width': 'max-content'},\n",
    "    disabled=False\n",
    ")\n",
    "\n",
    "Q8 = widgets.RadioButtons(\n",
    "    options=['Yes','No','Undetermined'],\n",
    "    description='Do you require multiple access tiers (ie. fully public tier and semi-public /researcher tier)?',\n",
    "    layout={'width': 'max-content'},\n",
    "    disabled=False\n",
    ")\n",
    "\n",
    "Q9 = widgets.RadioButtons(\n",
    "    options=['Yes','No','Undetermined'],\n",
    "    description='Do you require a data sharing agreement for access to your data?',\n",
    "    layout={'width': 'max-content'},\n",
    "    disabled=False\n",
    ")\n",
    "\n",
    "Q10 = widgets.RadioButtons(\n",
    "    options=['Txt, csv, xls, ect.','Specialized software','Undetermined'],\n",
    "    description='What file types are your data saved in?',\n",
    "    layout={'width': 'max-content'},\n",
    "    disabled=False\n",
    ")\n",
    "\n",
    "Q11 = widgets.RadioButtons(\n",
    "    options=['Yes','No','Undetermined'],\n",
    "    description='Is any of your data medical imaging data?',\n",
    "    layout={'width': 'max-content'},\n",
    "    disabled=False\n",
    ")\n",
    "\n",
    "Q12 = widgets.RadioButtons(\n",
    "    options=['Less than 1GB','Less than 10GB','Undetermined'],\n",
    "    description='How large will each data deposit be?',\n",
    "    layout={'width': 'max-content'},\n",
    "    disabled=False\n",
    ")\n",
    "\n",
    "Q13 = widgets.RadioButtons(\n",
    "    options=['Yes','No','Undetermined'],\n",
    "    description='Do you require the option to hold your data under embargo prior to publishing? ',\n",
    "    layout={'width': 'max-content'},\n",
    "    disabled=False\n",
    ")\n",
    "\n",
    "Q14 = widgets.RadioButtons(\n",
    "    options=['Yes','No','Undetermined'],\n",
    "    description='Do you require the data to have a private peer-review option for publication with journals?',\n",
    "    layout={'width': 'max-content'},\n",
    "    disabled=False\n",
    ")\n",
    "\n",
    "Q15 = widgets.RadioButtons(\n",
    "    options=['Yes','No','Undetermined'],\n",
    "    description='Do you require the data to be searchable on typical search engines like google?',\n",
    "    layout={'width': 'max-content'},\n",
    "    disabled=False\n",
    ")\n",
    "\n",
    "Q16 = widgets.RadioButtons(\n",
    "    options=['Yes','No','Undetermined'],\n",
    "    description='Do you require your data to be tagged with a unique digital identifier?',\n",
    "    layout={'width': 'max-content'},\n",
    "    disabled=False\n",
    ")\n",
    "\n",
    "Q17 = widgets.RadioButtons(\n",
    "    options=['Yes','No','Undetermined'],\n",
    "    description='Does your data follow an established metadata community standard?',\n",
    "    layout={'width': 'max-content'},\n",
    "    disabled=False\n",
    ")\n",
    "\n",
    "Q18 = widgets.RadioButtons(\n",
    "    options=['Yes','No','Undetermined'],\n",
    "    description='Do you have funding for the database?',\n",
    "    layout={'width': 'max-content'},\n",
    "    disabled=False\n",
    ")\n",
    "\n",
    "Q19 = widgets.RadioButtons(\n",
    "    options=['Yes','No','Undetermined'],\n",
    "    description='Do you require access to metrics relating to how many people have accessed your data/ downloaded the data?',\n",
    "    layout={'width': 'max-content'},\n",
    "    disabled=False\n",
    ")\n",
    "\n",
    "Q20 = widgets.RadioButtons(\n",
    "    options=['Yes','No','Undetermined'],\n",
    "    description='Do want the database to be a space for collaboration or to allow edits/versioning after the initial upload?',\n",
    "    layout={'width': 'max-content'},\n",
    "    disabled=False\n",
    ")"
   ]
  },
  {
   "cell_type": "code",
   "execution_count": 3,
   "metadata": {},
   "outputs": [
    {
     "data": {
      "application/vnd.jupyter.widget-view+json": {
       "model_id": "b9539569ea13474cbd4b153c1cc631d2",
       "version_major": 2,
       "version_minor": 0
      },
      "text/plain": [
       "RadioButtons(description='Will you be hosting human, animal, or cell data?', layout=Layout(width='max-content'…"
      ]
     },
     "execution_count": 3,
     "metadata": {},
     "output_type": "execute_result"
    }
   ],
   "source": [
    "Q1"
   ]
  },
  {
   "cell_type": "code",
   "execution_count": 4,
   "metadata": {},
   "outputs": [
    {
     "data": {
      "application/vnd.jupyter.widget-view+json": {
       "model_id": "fc457ee188d141d18c4328a7dacc7fa2",
       "version_major": 2,
       "version_minor": 0
      },
      "text/plain": [
       "RadioButtons(description='Does your data contain any sensitive information (ie. potentially re-identifiable pe…"
      ]
     },
     "metadata": {},
     "output_type": "display_data"
    }
   ],
   "source": [
    "if Q1.value == \"Human\":\n",
    "    display(Q2)"
   ]
  },
  {
   "cell_type": "code",
   "execution_count": 5,
   "metadata": {},
   "outputs": [
    {
     "data": {
      "application/vnd.jupyter.widget-view+json": {
       "model_id": "6624ba4286674d17a6d64c9e66e5e97c",
       "version_major": 2,
       "version_minor": 0
      },
      "text/plain": [
       "RadioButtons(description='Do you require a terms of use or registration for data access?', layout=Layout(width…"
      ]
     },
     "execution_count": 5,
     "metadata": {},
     "output_type": "execute_result"
    }
   ],
   "source": [
    "Q3"
   ]
  },
  {
   "cell_type": "code",
   "execution_count": 18,
   "metadata": {},
   "outputs": [
    {
     "data": {
      "application/vnd.jupyter.widget-view+json": {
       "model_id": "5047205359e74b029265d633efc0150c",
       "version_major": 2,
       "version_minor": 0
      },
      "text/plain": [
       "RadioButtons(description='Do you require the repository to have a built in privacy policy?', layout=Layout(wid…"
      ]
     },
     "execution_count": 18,
     "metadata": {},
     "output_type": "execute_result"
    }
   ],
   "source": [
    "Q4"
   ]
  },
  {
   "cell_type": "code",
   "execution_count": 19,
   "metadata": {},
   "outputs": [
    {
     "data": {
      "application/vnd.jupyter.widget-view+json": {
       "model_id": "f44e9744feec4069bff9e64255c66840",
       "version_major": 2,
       "version_minor": 0
      },
      "text/plain": [
       "RadioButtons(description='Do you require the repository to have a firewall? ', layout=Layout(width='max-conten…"
      ]
     },
     "execution_count": 19,
     "metadata": {},
     "output_type": "execute_result"
    }
   ],
   "source": [
    "Q5"
   ]
  },
  {
   "cell_type": "code",
   "execution_count": 20,
   "metadata": {},
   "outputs": [
    {
     "data": {
      "application/vnd.jupyter.widget-view+json": {
       "model_id": "f44e9744feec4069bff9e64255c66840",
       "version_major": 2,
       "version_minor": 0
      },
      "text/plain": [
       "RadioButtons(description='Do you require the repository to have a firewall? ', layout=Layout(width='max-conten…"
      ]
     },
     "execution_count": 20,
     "metadata": {},
     "output_type": "execute_result"
    }
   ],
   "source": [
    "Q5"
   ]
  },
  {
   "cell_type": "code",
   "execution_count": 21,
   "metadata": {},
   "outputs": [
    {
     "data": {
      "application/vnd.jupyter.widget-view+json": {
       "model_id": "30329ba53a804dea9d619baf73f8e4f2",
       "version_major": 2,
       "version_minor": 0
      },
      "text/plain": [
       "RadioButtons(description='Does your data need to be stored on a Canadian server?', layout=Layout(width='max-co…"
      ]
     },
     "metadata": {},
     "output_type": "display_data"
    }
   ],
   "source": [
    "if Q1.value == \"Human\" or Q1.value == \"Animal\":\n",
    "    display(Q7)"
   ]
  },
  {
   "cell_type": "code",
   "execution_count": 22,
   "metadata": {},
   "outputs": [
    {
     "data": {
      "application/vnd.jupyter.widget-view+json": {
       "model_id": "3c9cccbf7db04b2abf85945e3cc3aa82",
       "version_major": 2,
       "version_minor": 0
      },
      "text/plain": [
       "RadioButtons(description='Do you require multiple access tiers (ie. fully public tier and semi-public /researc…"
      ]
     },
     "execution_count": 22,
     "metadata": {},
     "output_type": "execute_result"
    }
   ],
   "source": [
    "Q8"
   ]
  },
  {
   "cell_type": "code",
   "execution_count": 23,
   "metadata": {},
   "outputs": [
    {
     "data": {
      "application/vnd.jupyter.widget-view+json": {
       "model_id": "21659b3059234872a0e04ad5f5f23571",
       "version_major": 2,
       "version_minor": 0
      },
      "text/plain": [
       "RadioButtons(description='Do you require a data sharing agreement for access to your data?', layout=Layout(wid…"
      ]
     },
     "execution_count": 23,
     "metadata": {},
     "output_type": "execute_result"
    }
   ],
   "source": [
    "Q9"
   ]
  },
  {
   "cell_type": "code",
   "execution_count": 24,
   "metadata": {},
   "outputs": [
    {
     "data": {
      "application/vnd.jupyter.widget-view+json": {
       "model_id": "3e31fe220c684b399d189303b381c31e",
       "version_major": 2,
       "version_minor": 0
      },
      "text/plain": [
       "RadioButtons(description='What file types are your data saved in?', layout=Layout(width='max-content'), option…"
      ]
     },
     "execution_count": 24,
     "metadata": {},
     "output_type": "execute_result"
    }
   ],
   "source": [
    "Q10"
   ]
  },
  {
   "cell_type": "code",
   "execution_count": 25,
   "metadata": {},
   "outputs": [
    {
     "data": {
      "application/vnd.jupyter.widget-view+json": {
       "model_id": "5125f5468233444aa1a929530b385394",
       "version_major": 2,
       "version_minor": 0
      },
      "text/plain": [
       "RadioButtons(description='Is any of your data medical imaging data?', layout=Layout(width='max-content'), opti…"
      ]
     },
     "execution_count": 25,
     "metadata": {},
     "output_type": "execute_result"
    }
   ],
   "source": [
    "Q11"
   ]
  },
  {
   "cell_type": "code",
   "execution_count": 26,
   "metadata": {},
   "outputs": [
    {
     "data": {
      "application/vnd.jupyter.widget-view+json": {
       "model_id": "29469a8dfb0440fb99d270c457ec7ea5",
       "version_major": 2,
       "version_minor": 0
      },
      "text/plain": [
       "RadioButtons(description='How large will each data deposit be?', layout=Layout(width='max-content'), options=(…"
      ]
     },
     "execution_count": 26,
     "metadata": {},
     "output_type": "execute_result"
    }
   ],
   "source": [
    "Q12"
   ]
  },
  {
   "cell_type": "code",
   "execution_count": 27,
   "metadata": {},
   "outputs": [
    {
     "data": {
      "application/vnd.jupyter.widget-view+json": {
       "model_id": "45975bee5ec241b1bd0abc99cb053474",
       "version_major": 2,
       "version_minor": 0
      },
      "text/plain": [
       "RadioButtons(description='Do you require the option to hold your data under embargo prior to publishing? ', la…"
      ]
     },
     "execution_count": 27,
     "metadata": {},
     "output_type": "execute_result"
    }
   ],
   "source": [
    "Q13"
   ]
  },
  {
   "cell_type": "code",
   "execution_count": 28,
   "metadata": {},
   "outputs": [
    {
     "data": {
      "application/vnd.jupyter.widget-view+json": {
       "model_id": "f499be3ffdaa42ccbcccdb542901699f",
       "version_major": 2,
       "version_minor": 0
      },
      "text/plain": [
       "RadioButtons(description='Do you require the data to have a private peer-review option for publication with jo…"
      ]
     },
     "execution_count": 28,
     "metadata": {},
     "output_type": "execute_result"
    }
   ],
   "source": [
    "Q14"
   ]
  },
  {
   "cell_type": "code",
   "execution_count": 29,
   "metadata": {},
   "outputs": [
    {
     "data": {
      "application/vnd.jupyter.widget-view+json": {
       "model_id": "d5dcba19dcb14db89af432c2af9b1f5b",
       "version_major": 2,
       "version_minor": 0
      },
      "text/plain": [
       "RadioButtons(description='Do you require the data to be searchable on typical search engines like google?', la…"
      ]
     },
     "execution_count": 29,
     "metadata": {},
     "output_type": "execute_result"
    }
   ],
   "source": [
    "Q15"
   ]
  },
  {
   "cell_type": "code",
   "execution_count": 30,
   "metadata": {},
   "outputs": [
    {
     "data": {
      "application/vnd.jupyter.widget-view+json": {
       "model_id": "56f8107c1908498daaa2122f8e3f9636",
       "version_major": 2,
       "version_minor": 0
      },
      "text/plain": [
       "RadioButtons(description='Do you require your data to be tagged with a unique digital identifier?', layout=Lay…"
      ]
     },
     "execution_count": 30,
     "metadata": {},
     "output_type": "execute_result"
    }
   ],
   "source": [
    "Q16"
   ]
  },
  {
   "cell_type": "code",
   "execution_count": null,
   "metadata": {},
   "outputs": [],
   "source": [
    "Q17"
   ]
  },
  {
   "cell_type": "code",
   "execution_count": null,
   "metadata": {},
   "outputs": [],
   "source": [
    "Q18"
   ]
  },
  {
   "cell_type": "code",
   "execution_count": null,
   "metadata": {},
   "outputs": [],
   "source": [
    "Q19"
   ]
  },
  {
   "cell_type": "code",
   "execution_count": null,
   "metadata": {},
   "outputs": [],
   "source": [
    "Q20"
   ]
  },
  {
   "cell_type": "code",
   "execution_count": 32,
   "metadata": {},
   "outputs": [
    {
     "data": {
      "text/plain": [
       "'Yes'"
      ]
     },
     "execution_count": 32,
     "metadata": {},
     "output_type": "execute_result"
    }
   ],
   "source": []
  },
  {
   "cell_type": "code",
   "execution_count": null,
   "metadata": {},
   "outputs": [],
   "source": []
  }
 ],
 "metadata": {
  "kernelspec": {
   "display_name": "Python 3 (ipykernel)",
   "language": "python",
   "name": "python3"
  },
  "language_info": {
   "codemirror_mode": {
    "name": "ipython",
    "version": 3
   },
   "file_extension": ".py",
   "mimetype": "text/x-python",
   "name": "python",
   "nbconvert_exporter": "python",
   "pygments_lexer": "ipython3",
   "version": "3.9.13"
  }
 },
 "nbformat": 4,
 "nbformat_minor": 4
}
